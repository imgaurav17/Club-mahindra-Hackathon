{
 "cells": [
  {
   "cell_type": "code",
   "execution_count": 29,
   "metadata": {},
   "outputs": [],
   "source": [
    "import numpy as np\n",
    "import pandas as pd\n",
    "import matplotlib.pyplot as plt\n",
    "import seaborn as sns\n",
    "%matplotlib inline\n",
    "import warnings\n",
    "warnings.filterwarnings('ignore')\n",
    "from datetime import datetime\n",
    "\n",
    "def report(results, n_top=3):\n",
    "    for i in range(1, n_top + 1):\n",
    "        candidates = np.flatnonzero(results['rank_test_score'] == i)\n",
    "        for candidate in candidates:\n",
    "            print(\"Model with rank: {0}\".format(i))\n",
    "            print(\"Mean validation score: {0:.3f} (std: {1:.3f})\".format(\n",
    "                  results['mean_test_score'][candidate],\n",
    "                  results['std_test_score'][candidate]))\n",
    "            print(\"Parameters: {0}\".format(results['params'][candidate]))\n",
    "            print(\"\")"
   ]
  },
  {
   "cell_type": "code",
   "execution_count": 50,
   "metadata": {},
   "outputs": [],
   "source": [
    "train = pd.read_csv(r'C:\\Users\\user\\Downloads\\club mahindra\\train.csv')\n",
    "test = pd.read_csv(r'C:\\Users\\user\\Downloads\\club mahindra\\test.csv')"
   ]
  },
  {
   "cell_type": "code",
   "execution_count": 51,
   "metadata": {},
   "outputs": [],
   "source": [
    "# train['amount_spent_per_room_night_scaled'] = (train['amount_spent_per_room_night_scaled'] - 7.720801) / 1.090109"
   ]
  },
  {
   "cell_type": "code",
   "execution_count": 52,
   "metadata": {},
   "outputs": [],
   "source": [
    "#removing outliers\n",
    "train.drop(80315,axis=0,inplace=True)"
   ]
  },
  {
   "cell_type": "code",
   "execution_count": 53,
   "metadata": {},
   "outputs": [
    {
     "data": {
      "text/plain": [
       "<matplotlib.axes._subplots.AxesSubplot at 0x24e0da2d748>"
      ]
     },
     "execution_count": 53,
     "metadata": {},
     "output_type": "execute_result"
    },
    {
     "data": {
      "image/png": "[encoded data removed]",
      "text/plain": [
       "<Figure size 432x288 with 1 Axes>"
      ]
     },
     "metadata": {
      "needs_background": "light"
     },
     "output_type": "display_data"
    }
   ],
   "source": [
    "# from scipy import stats\n",
    "# from scipy.stats import norm, skew #for some statistics\n",
    "# #We use the numpy fuction log1p which  applies log(1+x) to all elements of the column\n",
    "# train[\"amount_spent_per_room_night_scaled\"] = np.sqrt(train[\"amount_spent_per_room_night_scaled\"])\n",
    "\n",
    "# #Check the new distribution \n",
    "# sns.distplot(train['amount_spent_per_room_night_scaled'] , fit=norm);\n",
    "\n",
    "# # Get the fitted parameters used by the function\n",
    "# (mu, sigma) = norm.fit(train['amount_spent_per_room_night_scaled'])\n",
    "# print( '\\n mu = {:.2f} and sigma = {:.2f}\\n'.format(mu, sigma))\n",
    "\n",
    "# #Now plot the distribution\n",
    "# plt.legend(['Normal dist. ($\\mu=$ {:.2f} and $\\sigma=$ {:.2f} )'.format(mu, sigma)],\n",
    "#             loc='best')\n",
    "# plt.ylabel('Frequency')\n",
    "# plt.title('amount_spent_per_room_night_scaled ')\n",
    "\n",
    "# #Get also the QQ-plot\n",
    "# fig = plt.figure()\n",
    "# res = stats.probplot(train['amount_spent_per_room_night_scaled'], plot=plt)\n",
    "# plt.show()\n",
    "sns.distplot(train['amount_spent_per_room_night_scaled'])"
   ]
  },
  {
   "cell_type": "code",
   "execution_count": 54,
   "metadata": {},
   "outputs": [
    {
     "data": {
      "text/plain": [
       "((341423, 24), (146765, 23))"
      ]
     },
     "execution_count": 54,
     "metadata": {},
     "output_type": "execute_result"
    }
   ],
   "source": [
    "train.shape,test.shape"
   ]
  },
  {
   "cell_type": "code",
   "execution_count": 55,
   "metadata": {},
   "outputs": [],
   "source": [
    "train['source'] = 'train'\n",
    "test['source'] = 'test'\n",
    "\n",
    "data= pd.concat([train,test],ignore_index=False)"
   ]
  },
  {
   "cell_type": "code",
   "execution_count": 56,
   "metadata": {},
   "outputs": [],
   "source": [
    "#creating datetime datatypes\n",
    "data['booking_date'] = pd.to_datetime(data['booking_date'], format='%d/%m/%y')\n",
    "data['checkin_date'] = pd.to_datetime(data['checkin_date'], format='%d/%m/%y')\n",
    "data['checkout_date'] = pd.to_datetime(data['checkout_date'], format='%d/%m/%y')"
   ]
  },
  {
   "cell_type": "code",
   "execution_count": 57,
   "metadata": {},
   "outputs": [],
   "source": [
    "#calculating days\n",
    "data['total_journey'] = data['checkout_date'] - data['checkin_date']\n",
    "data['advanced_booking_days'] = data['checkin_date'] - data['booking_date']\n",
    "data['total_journey'] = data['total_journey'].astype('timedelta64[D]')\n",
    "data['advanced_booking_days'] = data['advanced_booking_days'].astype('timedelta64[D]')"
   ]
  },
  {
   "cell_type": "code",
   "execution_count": 58,
   "metadata": {},
   "outputs": [],
   "source": [
    "#isweekend or not\n",
    "# data['weekend']=((pd.DatetimeIndex(data.checkin_date).dayofweek) // 5 == 1).astype(float)"
   ]
  },
  {
   "cell_type": "code",
   "execution_count": 59,
   "metadata": {},
   "outputs": [],
   "source": [
    "#extracting month and quarter\n",
    "# data['booking_quarter']=data.booking_date.dt.quarter\n",
    "data['booking_month']=data.booking_date.dt.month\n",
    "data['booking_year']=data.booking_date.dt.year"
   ]
  },
  {
   "cell_type": "code",
   "execution_count": 60,
   "metadata": {},
   "outputs": [],
   "source": [
    "#dropping dates\n",
    "data.drop(['checkin_date','checkout_date','booking_date'],axis=1,inplace=True)"
   ]
  },
  {
   "cell_type": "code",
   "execution_count": 61,
   "metadata": {},
   "outputs": [],
   "source": [
    "#dropping ids\n",
    "data.drop(['memberid','reservation_id'],axis=1,inplace=True)\n",
    "\n",
    "# data.drop(['resort_id'],axis=1,inplace=True)"
   ]
  },
  {
   "cell_type": "code",
   "execution_count": 62,
   "metadata": {},
   "outputs": [],
   "source": [
    "#concatenating similar columns\n",
    "# data['reservationstatusid_code_booking_type'] = data['booking_type_code'].astype(str) + data['reservationstatusid_code']\n",
    "\n",
    "data['cluster_code_resort_type'] = data['resort_type_code'].astype(str) + data['cluster_code'] + data['resort_region_code'].astype(str) + data['state_code_resort'].astype(str)\n",
    "\n",
    "#dropping used columns\n",
    "data.drop(['resort_type_code','cluster_code','resort_region_code','state_code_resort'],axis=1,inplace=True)"
   ]
  },
  {
   "cell_type": "code",
   "execution_count": 63,
   "metadata": {},
   "outputs": [],
   "source": [
    "#deleting unwanted features\n",
    "# data.drop('state_code_residence',axis=1,inplace=True)"
   ]
  },
  {
   "cell_type": "code",
   "execution_count": 64,
   "metadata": {},
   "outputs": [],
   "source": [
    "#data['season_holidayed_code'] = data.groupby('memberid')['season_holidayed_code'].transform(lambda x : x.fillna(mode(x)))\n",
    "data['season_holidayed_code'] = data['season_holidayed_code'].fillna(2)"
   ]
  },
  {
   "cell_type": "code",
   "execution_count": 65,
   "metadata": {},
   "outputs": [],
   "source": [
    "data['state_code_residence'] = data['state_code_residence'].fillna(1)"
   ]
  },
  {
   "cell_type": "code",
   "execution_count": 66,
   "metadata": {},
   "outputs": [],
   "source": [
    "#dropping\n",
    "# data.drop('state_code_resort',axis=1,inplace=True)"
   ]
  },
  {
   "cell_type": "code",
   "execution_count": 67,
   "metadata": {},
   "outputs": [
    {
     "data": {
      "text/plain": [
       "<matplotlib.axes._subplots.AxesSubplot at 0x24e1fea68d0>"
      ]
     },
     "execution_count": 67,
     "metadata": {},
     "output_type": "execute_result"
    },
    {
     "data": {
      "image/png": "[encoded data removed]",
      "text/plain": [
       "<Figure size 432x288 with 2 Axes>"
      ]
     },
     "metadata": {
      "needs_background": "light"
     },
     "output_type": "display_data"
    }
   ],
   "source": [
    "sns.heatmap(data.corr())"
   ]
  },
  {
   "cell_type": "code",
   "execution_count": 68,
   "metadata": {},
   "outputs": [
    {
     "data": {
      "text/plain": [
       "amount_spent_per_room_night_scaled    float64\n",
       "booking_type_code                       int64\n",
       "channel_code                            int64\n",
       "main_product_code                       int64\n",
       "member_age_buckets                     object\n",
       "numberofadults                          int64\n",
       "numberofchildren                        int64\n",
       "persontravellingid                      int64\n",
       "reservationstatusid_code               object\n",
       "resort_id                              object\n",
       "room_type_booked_code                   int64\n",
       "roomnights                              int64\n",
       "season_holidayed_code                 float64\n",
       "source                                 object\n",
       "state_code_residence                  float64\n",
       "total_pax                               int64\n",
       "total_journey                         float64\n",
       "advanced_booking_days                 float64\n",
       "booking_month                           int64\n",
       "booking_year                            int64\n",
       "cluster_code_resort_type               object\n",
       "dtype: object"
      ]
     },
     "execution_count": 68,
     "metadata": {},
     "output_type": "execute_result"
    }
   ],
   "source": [
    "data.dtypes"
   ]
  },
  {
   "cell_type": "code",
   "execution_count": 69,
   "metadata": {},
   "outputs": [
    {
     "data": {
      "text/html": [
       "<div>\n",
       "<style scoped>\n",
       "    .dataframe tbody tr th:only-of-type {\n",
       "        vertical-align: middle;\n",
       "    }\n",
       "\n",
       "    .dataframe tbody tr th {\n",
       "        vertical-align: top;\n",
       "    }\n",
       "\n",
       "    .dataframe thead th {\n",
       "        text-align: right;\n",
       "    }\n",
       "</style>\n",
       "<table border=\"1\" class=\"dataframe\">\n",
       "  <thead>\n",
       "    <tr style=\"text-align: right;\">\n",
       "      <th></th>\n",
       "      <th>amount_spent_per_room_night_scaled</th>\n",
       "      <th>booking_type_code</th>\n",
       "      <th>channel_code</th>\n",
       "      <th>main_product_code</th>\n",
       "      <th>member_age_buckets</th>\n",
       "      <th>numberofadults</th>\n",
       "      <th>numberofchildren</th>\n",
       "      <th>persontravellingid</th>\n",
       "      <th>reservationstatusid_code</th>\n",
       "      <th>resort_id</th>\n",
       "      <th>...</th>\n",
       "      <th>roomnights</th>\n",
       "      <th>season_holidayed_code</th>\n",
       "      <th>source</th>\n",
       "      <th>state_code_residence</th>\n",
       "      <th>total_pax</th>\n",
       "      <th>total_journey</th>\n",
       "      <th>advanced_booking_days</th>\n",
       "      <th>booking_month</th>\n",
       "      <th>booking_year</th>\n",
       "      <th>cluster_code_resort_type</th>\n",
       "    </tr>\n",
       "  </thead>\n",
       "  <tbody>\n",
       "    <tr>\n",
       "      <th>0</th>\n",
       "      <td>7.706428</td>\n",
       "      <td>1</td>\n",
       "      <td>3</td>\n",
       "      <td>1</td>\n",
       "      <td>F</td>\n",
       "      <td>2</td>\n",
       "      <td>0</td>\n",
       "      <td>46</td>\n",
       "      <td>C</td>\n",
       "      <td>4e07408562bedb8b60ce05c1decfe3ad16b72230967de0...</td>\n",
       "      <td>...</td>\n",
       "      <td>1</td>\n",
       "      <td>2.0</td>\n",
       "      <td>train</td>\n",
       "      <td>7.0</td>\n",
       "      <td>3</td>\n",
       "      <td>1.0</td>\n",
       "      <td>0.0</td>\n",
       "      <td>4</td>\n",
       "      <td>2018</td>\n",
       "      <td>3F33</td>\n",
       "    </tr>\n",
       "    <tr>\n",
       "      <th>1</th>\n",
       "      <td>6.662563</td>\n",
       "      <td>1</td>\n",
       "      <td>1</td>\n",
       "      <td>1</td>\n",
       "      <td>F</td>\n",
       "      <td>2</td>\n",
       "      <td>0</td>\n",
       "      <td>46</td>\n",
       "      <td>A</td>\n",
       "      <td>39fa9ec190eee7b6f4dff1100d6343e10918d044c75eac...</td>\n",
       "      <td>...</td>\n",
       "      <td>5</td>\n",
       "      <td>2.0</td>\n",
       "      <td>train</td>\n",
       "      <td>7.0</td>\n",
       "      <td>2</td>\n",
       "      <td>5.0</td>\n",
       "      <td>78.0</td>\n",
       "      <td>1</td>\n",
       "      <td>2015</td>\n",
       "      <td>3F35</td>\n",
       "    </tr>\n",
       "    <tr>\n",
       "      <th>2</th>\n",
       "      <td>7.871602</td>\n",
       "      <td>1</td>\n",
       "      <td>1</td>\n",
       "      <td>1</td>\n",
       "      <td>F</td>\n",
       "      <td>2</td>\n",
       "      <td>0</td>\n",
       "      <td>47</td>\n",
       "      <td>A</td>\n",
       "      <td>535fa30d7e25dd8a49f1536779734ec8286108d115da50...</td>\n",
       "      <td>...</td>\n",
       "      <td>4</td>\n",
       "      <td>2.0</td>\n",
       "      <td>train</td>\n",
       "      <td>7.0</td>\n",
       "      <td>2</td>\n",
       "      <td>4.0</td>\n",
       "      <td>4.0</td>\n",
       "      <td>1</td>\n",
       "      <td>2015</td>\n",
       "      <td>5E11</td>\n",
       "    </tr>\n",
       "    <tr>\n",
       "      <th>3</th>\n",
       "      <td>5.344943</td>\n",
       "      <td>1</td>\n",
       "      <td>1</td>\n",
       "      <td>1</td>\n",
       "      <td>F</td>\n",
       "      <td>2</td>\n",
       "      <td>2</td>\n",
       "      <td>46</td>\n",
       "      <td>A</td>\n",
       "      <td>d4735e3a265e16eee03f59718b9b5d03019c07d8b6c51f...</td>\n",
       "      <td>...</td>\n",
       "      <td>5</td>\n",
       "      <td>2.0</td>\n",
       "      <td>train</td>\n",
       "      <td>7.0</td>\n",
       "      <td>2</td>\n",
       "      <td>5.0</td>\n",
       "      <td>40.0</td>\n",
       "      <td>5</td>\n",
       "      <td>2015</td>\n",
       "      <td>2D22</td>\n",
       "    </tr>\n",
       "    <tr>\n",
       "      <th>4</th>\n",
       "      <td>7.059346</td>\n",
       "      <td>1</td>\n",
       "      <td>1</td>\n",
       "      <td>1</td>\n",
       "      <td>F</td>\n",
       "      <td>2</td>\n",
       "      <td>0</td>\n",
       "      <td>46</td>\n",
       "      <td>A</td>\n",
       "      <td>d4735e3a265e16eee03f59718b9b5d03019c07d8b6c51f...</td>\n",
       "      <td>...</td>\n",
       "      <td>5</td>\n",
       "      <td>2.0</td>\n",
       "      <td>train</td>\n",
       "      <td>7.0</td>\n",
       "      <td>2</td>\n",
       "      <td>5.0</td>\n",
       "      <td>103.0</td>\n",
       "      <td>9</td>\n",
       "      <td>2015</td>\n",
       "      <td>2D22</td>\n",
       "    </tr>\n",
       "  </tbody>\n",
       "</table>\n",
       "<p>5 rows × 21 columns</p>\n",
       "</div>"
      ],
      "text/plain": [
       "   amount_spent_per_room_night_scaled  booking_type_code  channel_code  \\\n",
       "0                            7.706428                  1             3   \n",
       "1                            6.662563                  1             1   \n",
       "2                            7.871602                  1             1   \n",
       "3                            5.344943                  1             1   \n",
       "4                            7.059346                  1             1   \n",
       "\n",
       "   main_product_code member_age_buckets  numberofadults  numberofchildren  \\\n",
       "0                  1                  F               2                 0   \n",
       "1                  1                  F               2                 0   \n",
       "2                  1                  F               2                 0   \n",
       "3                  1                  F               2                 2   \n",
       "4                  1                  F               2                 0   \n",
       "\n",
       "   persontravellingid reservationstatusid_code  \\\n",
       "0                  46                        C   \n",
       "1                  46                        A   \n",
       "2                  47                        A   \n",
       "3                  46                        A   \n",
       "4                  46                        A   \n",
       "\n",
       "                                           resort_id  ...  roomnights  \\\n",
       "0  4e07408562bedb8b60ce05c1decfe3ad16b72230967de0...  ...           1   \n",
       "1  39fa9ec190eee7b6f4dff1100d6343e10918d044c75eac...  ...           5   \n",
       "2  535fa30d7e25dd8a49f1536779734ec8286108d115da50...  ...           4   \n",
       "3  d4735e3a265e16eee03f59718b9b5d03019c07d8b6c51f...  ...           5   \n",
       "4  d4735e3a265e16eee03f59718b9b5d03019c07d8b6c51f...  ...           5   \n",
       "\n",
       "   season_holidayed_code  source state_code_residence  total_pax  \\\n",
       "0                    2.0   train                  7.0          3   \n",
       "1                    2.0   train                  7.0          2   \n",
       "2                    2.0   train                  7.0          2   \n",
       "3                    2.0   train                  7.0          2   \n",
       "4                    2.0   train                  7.0          2   \n",
       "\n",
       "   total_journey  advanced_booking_days  booking_month  booking_year  \\\n",
       "0            1.0                    0.0              4          2018   \n",
       "1            5.0                   78.0              1          2015   \n",
       "2            4.0                    4.0              1          2015   \n",
       "3            5.0                   40.0              5          2015   \n",
       "4            5.0                  103.0              9          2015   \n",
       "\n",
       "   cluster_code_resort_type  \n",
       "0                      3F33  \n",
       "1                      3F35  \n",
       "2                      5E11  \n",
       "3                      2D22  \n",
       "4                      2D22  \n",
       "\n",
       "[5 rows x 21 columns]"
      ]
     },
     "execution_count": 69,
     "metadata": {},
     "output_type": "execute_result"
    }
   ],
   "source": [
    "data.head()"
   ]
  },
  {
   "cell_type": "code",
   "execution_count": 70,
   "metadata": {},
   "outputs": [
    {
     "data": {
      "text/plain": [
       "amount_spent_per_room_night_scaled    float64\n",
       "booking_type_code                       int64\n",
       "channel_code                            int64\n",
       "main_product_code                       int64\n",
       "member_age_buckets                     object\n",
       "numberofadults                          int64\n",
       "numberofchildren                        int64\n",
       "persontravellingid                      int64\n",
       "reservationstatusid_code               object\n",
       "resort_id                              object\n",
       "room_type_booked_code                   int64\n",
       "roomnights                              int64\n",
       "season_holidayed_code                 float64\n",
       "source                                 object\n",
       "state_code_residence                  float64\n",
       "total_pax                               int64\n",
       "total_journey                         float64\n",
       "advanced_booking_days                 float64\n",
       "booking_month                           int64\n",
       "booking_year                            int64\n",
       "cluster_code_resort_type               object\n",
       "dtype: object"
      ]
     },
     "execution_count": 70,
     "metadata": {},
     "output_type": "execute_result"
    }
   ],
   "source": [
    "data.dtypes"
   ]
  },
  {
   "cell_type": "code",
   "execution_count": 72,
   "metadata": {},
   "outputs": [],
   "source": [
    "#creating dummies values\n",
    "list1=['resort_id','cluster_code_resort_type']\n",
    "for col in list1:\n",
    "    dummies=pd.get_dummies(data[col],drop_first=True,prefix=col)\n",
    "    data = pd.concat([data,dummies],axis=1)\n",
    "    del data[col]\n",
    "del dummies"
   ]
  },
  {
   "cell_type": "code",
   "execution_count": 73,
   "metadata": {},
   "outputs": [
    {
     "data": {
      "text/plain": [
       "reservation_id                         object\n",
       "booking_date                           object\n",
       "checkin_date                           object\n",
       "checkout_date                          object\n",
       "channel_code                            int64\n",
       "main_product_code                       int64\n",
       "numberofadults                          int64\n",
       "numberofchildren                        int64\n",
       "persontravellingid                      int64\n",
       "resort_region_code                      int64\n",
       "resort_type_code                        int64\n",
       "room_type_booked_code                   int64\n",
       "roomnights                              int64\n",
       "season_holidayed_code                 float64\n",
       "state_code_residence                  float64\n",
       "state_code_resort                       int64\n",
       "total_pax                               int64\n",
       "member_age_buckets                     object\n",
       "booking_type_code                       int64\n",
       "memberid                               object\n",
       "cluster_code                           object\n",
       "reservationstatusid_code               object\n",
       "resort_id                              object\n",
       "amount_spent_per_room_night_scaled    float64\n",
       "source                                 object\n",
       "dtype: object"
      ]
     },
     "execution_count": 73,
     "metadata": {},
     "output_type": "execute_result"
    }
   ],
   "source": [
    "train.dtypes"
   ]
  },
  {
   "cell_type": "code",
   "execution_count": 270,
   "metadata": {},
   "outputs": [],
   "source": [
    "train= data.loc[data['source']=='train']\n",
    "test= data.loc[data['source']=='test']\n",
    "\n",
    "train.drop('source',axis=1,inplace=True)\n",
    "test.drop('source',axis=1,inplace=True)"
   ]
  },
  {
   "cell_type": "code",
   "execution_count": 271,
   "metadata": {},
   "outputs": [],
   "source": [
    "y = train['amount_spent_per_room_night_scaled']\n",
    "train.drop('amount_spent_per_room_night_scaled',axis=1,inplace=True)\n",
    "test.drop('amount_spent_per_room_night_scaled',axis=1,inplace=True)"
   ]
  },
  {
   "cell_type": "code",
   "execution_count": 272,
   "metadata": {},
   "outputs": [],
   "source": [
    "train = train[columns]\n",
    "test = test[columns]"
   ]
  },
  {
   "cell_type": "code",
   "execution_count": 273,
   "metadata": {},
   "outputs": [],
   "source": [
    "from sklearn.model_selection import train_test_split\n",
    "x_train,x_test,y_train,y_test = train_test_split(train,y,test_size = 0.2)"
   ]
  },
  {
   "cell_type": "code",
   "execution_count": 27,
   "metadata": {},
   "outputs": [],
   "source": [
    "from sklearn.linear_model import ElasticNet, Lasso,  BayesianRidge, LassoLarsIC\n",
    "from sklearn.ensemble import RandomForestRegressor,  GradientBoostingRegressor\n",
    "from sklearn.kernel_ridge import KernelRidge\n",
    "from sklearn.pipeline import make_pipeline\n",
    "from sklearn.preprocessing import RobustScaler\n",
    "from sklearn.base import BaseEstimator, TransformerMixin, RegressorMixin, clone\n",
    "from sklearn.model_selection import KFold, cross_val_score, train_test_split\n",
    "from sklearn.metrics import mean_squared_error\n",
    "import xgboost as xgb\n",
    "import lightgbm as lgb"
   ]
  },
  {
   "cell_type": "code",
   "execution_count": 237,
   "metadata": {},
   "outputs": [],
   "source": [
    "#Validation function\n",
    "n_folds = 5\n",
    "\n",
    "def rmsle_cv(model):\n",
    "    kf = KFold(n_folds, shuffle=True, random_state=42).get_n_splits(x_train.values)\n",
    "    rmse= np.sqrt(-cross_val_score(model, x_train.values, y_train, scoring=\"neg_mean_squared_error\", cv = kf))\n",
    "    return(rmse)"
   ]
  },
  {
   "cell_type": "code",
   "execution_count": 253,
   "metadata": {},
   "outputs": [],
   "source": [
    "lasso = make_pipeline(RobustScaler(), Lasso(alpha =0.0005, random_state=1))"
   ]
  },
  {
   "cell_type": "code",
   "execution_count": 254,
   "metadata": {},
   "outputs": [],
   "source": [
    "ENet = make_pipeline(RobustScaler(), ElasticNet(alpha=0.0005, l1_ratio=.9, random_state=3))"
   ]
  },
  {
   "cell_type": "code",
   "execution_count": 255,
   "metadata": {},
   "outputs": [],
   "source": [
    "# KRR = KernelRidge(alpha=0.6, kernel='polynomial', degree=2, coef0=2.5)"
   ]
  },
  {
   "cell_type": "code",
   "execution_count": 256,
   "metadata": {},
   "outputs": [],
   "source": [
    "GBoost = GradientBoostingRegressor(n_estimators=3000, learning_rate=0.05,\n",
    "                                   max_depth=4, max_features='sqrt',\n",
    "                                   min_samples_leaf=15, min_samples_split=10, \n",
    "                                   loss='huber', random_state =5)"
   ]
  },
  {
   "cell_type": "code",
   "execution_count": 257,
   "metadata": {},
   "outputs": [],
   "source": [
    "model_xgb = xgb.XGBRegressor(colsample_bytree=0.4603, gamma=0.0468, \n",
    "                             learning_rate=0.05, max_depth=3, \n",
    "                             min_child_weight=1.7817, n_estimators=2200,\n",
    "                             reg_alpha=0.4640, reg_lambda=0.8571,\n",
    "                             subsample=0.5213, silent=1,\n",
    "                             random_state =7, nthread = -1,n_jobs=-1)\n",
    "\n"
   ]
  },
  {
   "cell_type": "code",
   "execution_count": 258,
   "metadata": {},
   "outputs": [],
   "source": [
    "model_lgb = lgb.LGBMRegressor(objective='regression',num_leaves=5,\n",
    "                              learning_rate=0.05, n_estimators=720,\n",
    "                              max_bin = 55, bagging_fraction = 0.8,\n",
    "                              bagging_freq = 5, feature_fraction = 0.2319,\n",
    "                              feature_fraction_seed=9, bagging_seed=9,\n",
    "                              min_data_in_leaf =6, min_sum_hessian_in_leaf = 11,n_jobs=-1)"
   ]
  },
  {
   "cell_type": "code",
   "execution_count": 259,
   "metadata": {},
   "outputs": [
    {
     "name": "stdout",
     "output_type": "stream",
     "text": [
      "\n",
      "Lasso score: 1.0200 (0.0039)\n",
      "\n"
     ]
    }
   ],
   "source": [
    "score = rmsle_cv(lasso)\n",
    "print(\"\\nLasso score: {:.4f} ({:.4f})\\n\".format(score.mean(), score.std()))"
   ]
  },
  {
   "cell_type": "code",
   "execution_count": 260,
   "metadata": {},
   "outputs": [
    {
     "name": "stdout",
     "output_type": "stream",
     "text": [
      "ElasticNet score: 1.0199 (0.0039)\n",
      "\n"
     ]
    }
   ],
   "source": [
    "score = rmsle_cv(ENet)\n",
    "print(\"ElasticNet score: {:.4f} ({:.4f})\\n\".format(score.mean(), score.std()))"
   ]
  },
  {
   "cell_type": "code",
   "execution_count": 261,
   "metadata": {},
   "outputs": [],
   "source": [
    "# score = rmsle_cv(KRR)\n",
    "# print(\"Kernel Ridge score: {:.4f} ({:.4f})\\n\".format(score.mean(), score.std()))"
   ]
  },
  {
   "cell_type": "code",
   "execution_count": 262,
   "metadata": {},
   "outputs": [
    {
     "name": "stdout",
     "output_type": "stream",
     "text": [
      "Gradient Boosting score: 0.9916 (0.0039)\n",
      "\n"
     ]
    }
   ],
   "source": [
    "score = rmsle_cv(GBoost)\n",
    "print(\"Gradient Boosting score: {:.4f} ({:.4f})\\n\".format(score.mean(), score.std()))"
   ]
  },
  {
   "cell_type": "code",
   "execution_count": 263,
   "metadata": {},
   "outputs": [
    {
     "name": "stdout",
     "output_type": "stream",
     "text": [
      "Xgboost score: 0.9879 (0.0036)\n",
      "\n"
     ]
    }
   ],
   "source": [
    "score = rmsle_cv(model_xgb)\n",
    "print(\"Xgboost score: {:.4f} ({:.4f})\\n\".format(score.mean(), score.std()))"
   ]
  },
  {
   "cell_type": "code",
   "execution_count": 264,
   "metadata": {},
   "outputs": [
    {
     "name": "stdout",
     "output_type": "stream",
     "text": [
      "LGBM score: 0.9920 (0.0037)\n",
      "\n"
     ]
    }
   ],
   "source": [
    "score = rmsle_cv(model_lgb)\n",
    "print(\"LGBM score: {:.4f} ({:.4f})\\n\" .format(score.mean(), score.std()))"
   ]
  },
  {
   "cell_type": "code",
   "execution_count": 265,
   "metadata": {},
   "outputs": [],
   "source": [
    "class AveragingModels(BaseEstimator, RegressorMixin, TransformerMixin):\n",
    "    def __init__(self, models):\n",
    "        self.models = models\n",
    "        \n",
    "    # we define clones of the original models to fit the data in\n",
    "    def fit(self, X, y):\n",
    "        self.models_ = [clone(x) for x in self.models]\n",
    "        \n",
    "        # Train cloned base models\n",
    "        for model in self.models_:\n",
    "            model.fit(X, y)\n",
    "\n",
    "        return self\n",
    "    \n",
    "    #Now we do the predictions for cloned models and average them\n",
    "    def predict(self, X):\n",
    "        predictions = np.column_stack([\n",
    "            model.predict(X) for model in self.models_\n",
    "        ])\n",
    "        return np.mean(predictions, axis=1)   "
   ]
  },
  {
   "cell_type": "code",
   "execution_count": 266,
   "metadata": {},
   "outputs": [
    {
     "name": "stdout",
     "output_type": "stream",
     "text": [
      " Averaged base models score: 0.9935 (0.0038)\n",
      "\n"
     ]
    }
   ],
   "source": [
    "averaged_models = AveragingModels(models = (ENet, GBoost, model_xgb, lasso,model_lgb))\n",
    "\n",
    "score = rmsle_cv(averaged_models)\n",
    "print(\" Averaged base models score: {:.4f} ({:.4f})\\n\".format(score.mean(), score.std()))"
   ]
  },
  {
   "cell_type": "code",
   "execution_count": 270,
   "metadata": {},
   "outputs": [],
   "source": [
    "class StackingAveragedModels(BaseEstimator, RegressorMixin, TransformerMixin):\n",
    "    def __init__(self, base_models, meta_model, n_folds=5):\n",
    "        self.base_models = base_models\n",
    "        self.meta_model = meta_model\n",
    "        self.n_folds = n_folds\n",
    "   \n",
    "    # We again fit the data on clones of the original models\n",
    "    def fit(self, X, y):\n",
    "        self.base_models_ = [list() for x in self.base_models]\n",
    "        self.meta_model_ = clone(self.meta_model)\n",
    "        kfold = KFold(n_splits=self.n_folds, shuffle=True, random_state=156)\n",
    "        \n",
    "        # Train cloned base models then create out-of-fold predictions\n",
    "        # that are needed to train the cloned meta-model\n",
    "        out_of_fold_predictions = np.zeros((X.shape[0], len(self.base_models)))\n",
    "        for i, model in enumerate(self.base_models):\n",
    "            for train_index, holdout_index in kfold.split(X, y):\n",
    "                instance = clone(model)\n",
    "                self.base_models_[i].append(instance)\n",
    "                instance.fit(X[train_index], y[train_index])\n",
    "                y_pred = instance.predict(X[holdout_index])\n",
    "                out_of_fold_predictions[holdout_index, i] = y_pred\n",
    "                \n",
    "        # Now train the cloned  meta-model using the out-of-fold predictions as new feature\n",
    "        self.meta_model_.fit(out_of_fold_predictions, y)\n",
    "        return self\n",
    "   \n",
    "    #Do the predictions of all base models on the test data and use the averaged predictions as \n",
    "    #meta-features for the final prediction which is done by the meta-model\n",
    "    def predict(self, X):\n",
    "        meta_features = np.column_stack([\n",
    "            np.column_stack([model.predict(X) for model in base_models]).mean(axis=1)\n",
    "            for base_models in self.base_models_ ])\n",
    "        return self.meta_model_.predict(meta_features)"
   ]
  },
  {
   "cell_type": "code",
   "execution_count": 274,
   "metadata": {},
   "outputs": [],
   "source": [
    "stacked_averaged_models = StackingAveragedModels(base_models = (ENet, GBoost, model_xgb),\n",
    "                                                 meta_model = lasso)\n",
    "\n",
    "# score = rmsle_cv(stacked_averaged_models)\n",
    "# print(\"Stacking Averaged models score: {:.4f} ({:.4f})\".format(score.mean(), score.std()))"
   ]
  },
  {
   "cell_type": "code",
   "execution_count": 275,
   "metadata": {},
   "outputs": [],
   "source": [
    "def rmsle(y, y_pred):\n",
    "    return np.sqrt(mean_squared_error(y, y_pred))"
   ]
  },
  {
   "cell_type": "code",
   "execution_count": 278,
   "metadata": {},
   "outputs": [
    {
     "ename": "KeyError",
     "evalue": "\"None of [Int64Index([     0,      1,      2,      3,      4,      5,      6,      8,\\n                 9,     10,\\n            ...\\n            273122, 273125, 273126, 273127, 273128, 273130, 273133, 273135,\\n            273137, 273138],\\n           dtype='int64', length=218511)] are in the [columns]\"",
     "output_type": "error",
     "traceback": [
      "\u001b[1;31m---------------------------------------------------------------------------\u001b[0m",
      "\u001b[1;31mKeyError\u001b[0m                                  Traceback (most recent call last)",
      "\u001b[1;32m<ipython-input-278-7a964712573c>\u001b[0m in \u001b[0;36m<module>\u001b[1;34m\u001b[0m\n\u001b[1;32m----> 1\u001b[1;33m \u001b[0mstacked_averaged_models\u001b[0m\u001b[1;33m.\u001b[0m\u001b[0mfit\u001b[0m\u001b[1;33m(\u001b[0m\u001b[0mx_train\u001b[0m\u001b[1;33m,\u001b[0m \u001b[0my_train\u001b[0m\u001b[1;33m)\u001b[0m\u001b[1;33m\u001b[0m\u001b[1;33m\u001b[0m\u001b[0m\n\u001b[0m\u001b[0;32m      2\u001b[0m \u001b[1;31m# stacked_train_pred = stacked_averaged_models.predict(train.values)\u001b[0m\u001b[1;33m\u001b[0m\u001b[1;33m\u001b[0m\u001b[1;33m\u001b[0m\u001b[0m\n\u001b[0;32m      3\u001b[0m \u001b[1;31m# stacked_pred = np.expm1(stacked_averaged_models.predict(test.values))\u001b[0m\u001b[1;33m\u001b[0m\u001b[1;33m\u001b[0m\u001b[1;33m\u001b[0m\u001b[0m\n\u001b[0;32m      4\u001b[0m \u001b[1;31m# print(rmsle(y_test, stacked_train_pred))\u001b[0m\u001b[1;33m\u001b[0m\u001b[1;33m\u001b[0m\u001b[1;33m\u001b[0m\u001b[0m\n",
      "\u001b[1;32m<ipython-input-270-dfca4af6e9d1>\u001b[0m in \u001b[0;36mfit\u001b[1;34m(self, X, y)\u001b[0m\n\u001b[0;32m     18\u001b[0m                 \u001b[0minstance\u001b[0m \u001b[1;33m=\u001b[0m \u001b[0mclone\u001b[0m\u001b[1;33m(\u001b[0m\u001b[0mmodel\u001b[0m\u001b[1;33m)\u001b[0m\u001b[1;33m\u001b[0m\u001b[1;33m\u001b[0m\u001b[0m\n\u001b[0;32m     19\u001b[0m                 \u001b[0mself\u001b[0m\u001b[1;33m.\u001b[0m\u001b[0mbase_models_\u001b[0m\u001b[1;33m[\u001b[0m\u001b[0mi\u001b[0m\u001b[1;33m]\u001b[0m\u001b[1;33m.\u001b[0m\u001b[0mappend\u001b[0m\u001b[1;33m(\u001b[0m\u001b[0minstance\u001b[0m\u001b[1;33m)\u001b[0m\u001b[1;33m\u001b[0m\u001b[1;33m\u001b[0m\u001b[0m\n\u001b[1;32m---> 20\u001b[1;33m                 \u001b[0minstance\u001b[0m\u001b[1;33m.\u001b[0m\u001b[0mfit\u001b[0m\u001b[1;33m(\u001b[0m\u001b[0mX\u001b[0m\u001b[1;33m[\u001b[0m\u001b[0mtrain_index\u001b[0m\u001b[1;33m]\u001b[0m\u001b[1;33m,\u001b[0m \u001b[0my\u001b[0m\u001b[1;33m[\u001b[0m\u001b[0mtrain_index\u001b[0m\u001b[1;33m]\u001b[0m\u001b[1;33m)\u001b[0m\u001b[1;33m\u001b[0m\u001b[1;33m\u001b[0m\u001b[0m\n\u001b[0m\u001b[0;32m     21\u001b[0m                 \u001b[0my_pred\u001b[0m \u001b[1;33m=\u001b[0m \u001b[0minstance\u001b[0m\u001b[1;33m.\u001b[0m\u001b[0mpredict\u001b[0m\u001b[1;33m(\u001b[0m\u001b[0mX\u001b[0m\u001b[1;33m[\u001b[0m\u001b[0mholdout_index\u001b[0m\u001b[1;33m]\u001b[0m\u001b[1;33m)\u001b[0m\u001b[1;33m\u001b[0m\u001b[1;33m\u001b[0m\u001b[0m\n\u001b[0;32m     22\u001b[0m                 \u001b[0mout_of_fold_predictions\u001b[0m\u001b[1;33m[\u001b[0m\u001b[0mholdout_index\u001b[0m\u001b[1;33m,\u001b[0m \u001b[0mi\u001b[0m\u001b[1;33m]\u001b[0m \u001b[1;33m=\u001b[0m \u001b[0my_pred\u001b[0m\u001b[1;33m\u001b[0m\u001b[1;33m\u001b[0m\u001b[0m\n",
      "\u001b[1;32m~\\Anaconda3\\lib\\site-packages\\pandas\\core\\frame.py\u001b[0m in \u001b[0;36m__getitem__\u001b[1;34m(self, key)\u001b[0m\n\u001b[0;32m   2932\u001b[0m                 \u001b[0mkey\u001b[0m \u001b[1;33m=\u001b[0m \u001b[0mlist\u001b[0m\u001b[1;33m(\u001b[0m\u001b[0mkey\u001b[0m\u001b[1;33m)\u001b[0m\u001b[1;33m\u001b[0m\u001b[1;33m\u001b[0m\u001b[0m\n\u001b[0;32m   2933\u001b[0m             indexer = self.loc._convert_to_indexer(key, axis=1,\n\u001b[1;32m-> 2934\u001b[1;33m                                                    raise_missing=True)\n\u001b[0m\u001b[0;32m   2935\u001b[0m \u001b[1;33m\u001b[0m\u001b[0m\n\u001b[0;32m   2936\u001b[0m         \u001b[1;31m# take() does not accept boolean indexers\u001b[0m\u001b[1;33m\u001b[0m\u001b[1;33m\u001b[0m\u001b[1;33m\u001b[0m\u001b[0m\n",
      "\u001b[1;32m~\\Anaconda3\\lib\\site-packages\\pandas\\core\\indexing.py\u001b[0m in \u001b[0;36m_convert_to_indexer\u001b[1;34m(self, obj, axis, is_setter, raise_missing)\u001b[0m\n\u001b[0;32m   1352\u001b[0m                 kwargs = {'raise_missing': True if is_setter else\n\u001b[0;32m   1353\u001b[0m                           raise_missing}\n\u001b[1;32m-> 1354\u001b[1;33m                 \u001b[1;32mreturn\u001b[0m \u001b[0mself\u001b[0m\u001b[1;33m.\u001b[0m\u001b[0m_get_listlike_indexer\u001b[0m\u001b[1;33m(\u001b[0m\u001b[0mobj\u001b[0m\u001b[1;33m,\u001b[0m \u001b[0maxis\u001b[0m\u001b[1;33m,\u001b[0m \u001b[1;33m**\u001b[0m\u001b[0mkwargs\u001b[0m\u001b[1;33m)\u001b[0m\u001b[1;33m[\u001b[0m\u001b[1;36m1\u001b[0m\u001b[1;33m]\u001b[0m\u001b[1;33m\u001b[0m\u001b[1;33m\u001b[0m\u001b[0m\n\u001b[0m\u001b[0;32m   1355\u001b[0m         \u001b[1;32melse\u001b[0m\u001b[1;33m:\u001b[0m\u001b[1;33m\u001b[0m\u001b[1;33m\u001b[0m\u001b[0m\n\u001b[0;32m   1356\u001b[0m             \u001b[1;32mtry\u001b[0m\u001b[1;33m:\u001b[0m\u001b[1;33m\u001b[0m\u001b[1;33m\u001b[0m\u001b[0m\n",
      "\u001b[1;32m~\\Anaconda3\\lib\\site-packages\\pandas\\core\\indexing.py\u001b[0m in \u001b[0;36m_get_listlike_indexer\u001b[1;34m(self, key, axis, raise_missing)\u001b[0m\n\u001b[0;32m   1159\u001b[0m         self._validate_read_indexer(keyarr, indexer,\n\u001b[0;32m   1160\u001b[0m                                     \u001b[0mo\u001b[0m\u001b[1;33m.\u001b[0m\u001b[0m_get_axis_number\u001b[0m\u001b[1;33m(\u001b[0m\u001b[0maxis\u001b[0m\u001b[1;33m)\u001b[0m\u001b[1;33m,\u001b[0m\u001b[1;33m\u001b[0m\u001b[1;33m\u001b[0m\u001b[0m\n\u001b[1;32m-> 1161\u001b[1;33m                                     raise_missing=raise_missing)\n\u001b[0m\u001b[0;32m   1162\u001b[0m         \u001b[1;32mreturn\u001b[0m \u001b[0mkeyarr\u001b[0m\u001b[1;33m,\u001b[0m \u001b[0mindexer\u001b[0m\u001b[1;33m\u001b[0m\u001b[1;33m\u001b[0m\u001b[0m\n\u001b[0;32m   1163\u001b[0m \u001b[1;33m\u001b[0m\u001b[0m\n",
      "\u001b[1;32m~\\Anaconda3\\lib\\site-packages\\pandas\\core\\indexing.py\u001b[0m in \u001b[0;36m_validate_read_indexer\u001b[1;34m(self, key, indexer, axis, raise_missing)\u001b[0m\n\u001b[0;32m   1244\u001b[0m                 raise KeyError(\n\u001b[0;32m   1245\u001b[0m                     u\"None of [{key}] are in the [{axis}]\".format(\n\u001b[1;32m-> 1246\u001b[1;33m                         key=key, axis=self.obj._get_axis_name(axis)))\n\u001b[0m\u001b[0;32m   1247\u001b[0m \u001b[1;33m\u001b[0m\u001b[0m\n\u001b[0;32m   1248\u001b[0m             \u001b[1;31m# We (temporarily) allow for some missing keys with .loc, except in\u001b[0m\u001b[1;33m\u001b[0m\u001b[1;33m\u001b[0m\u001b[1;33m\u001b[0m\u001b[0m\n",
      "\u001b[1;31mKeyError\u001b[0m: \"None of [Int64Index([     0,      1,      2,      3,      4,      5,      6,      8,\\n                 9,     10,\\n            ...\\n            273122, 273125, 273126, 273127, 273128, 273130, 273133, 273135,\\n            273137, 273138],\\n           dtype='int64', length=218511)] are in the [columns]\""
     ]
    }
   ],
   "source": [
    "stacked_averaged_models.fit(x_train, y_train)\n",
    "# stacked_train_pred = stacked_averaged_models.predict(train.values)\n",
    "# stacked_pred = np.expm1(stacked_averaged_models.predict(test.values))\n",
    "# print(rmsle(y_test, stacked_train_pred))"
   ]
  },
  {
   "cell_type": "code",
   "execution_count": null,
   "metadata": {},
   "outputs": [],
   "source": []
  },
  {
   "cell_type": "markdown",
   "metadata": {},
   "source": [
    "# linear models"
   ]
  },
  {
   "cell_type": "code",
   "execution_count": 222,
   "metadata": {},
   "outputs": [],
   "source": [
    "from sklearn.linear_model import Ridge,Lasso\n",
    "from sklearn.model_selection import GridSearchCV"
   ]
  },
  {
   "cell_type": "code",
   "execution_count": 223,
   "metadata": {},
   "outputs": [],
   "source": [
    "lambdas=np.linspace(110,130,100)\n",
    "params={'alpha':lambdas}"
   ]
  },
  {
   "cell_type": "code",
   "execution_count": 42,
   "metadata": {},
   "outputs": [],
   "source": [
    "# model=Lasso(fit_intercept=True)\n",
    "model=Ridge(fit_intercept=True)"
   ]
  },
  {
   "cell_type": "code",
   "execution_count": 44,
   "metadata": {},
   "outputs": [
    {
     "name": "stdout",
     "output_type": "stream",
     "text": [
      "Fitting 10 folds for each of 100 candidates, totalling 1000 fits\n"
     ]
    },
    {
     "name": "stderr",
     "output_type": "stream",
     "text": [
      "[Parallel(n_jobs=-1)]: Using backend LokyBackend with 16 concurrent workers.\n",
      "[Parallel(n_jobs=-1)]: Done  18 tasks      | elapsed:    6.0s\n",
      "[Parallel(n_jobs=-1)]: Done 168 tasks      | elapsed:   27.7s\n",
      "[Parallel(n_jobs=-1)]: Done 418 tasks      | elapsed:  1.1min\n",
      "[Parallel(n_jobs=-1)]: Done 768 tasks      | elapsed:  1.9min\n",
      "[Parallel(n_jobs=-1)]: Done 1000 out of 1000 | elapsed:  2.5min finished\n"
     ]
    },
    {
     "data": {
      "text/plain": [
       "GridSearchCV(cv=10, error_score='raise-deprecating',\n",
       "       estimator=Ridge(alpha=1.0, copy_X=True, fit_intercept=True, max_iter=None,\n",
       "   normalize=False, random_state=None, solver='auto', tol=0.001),\n",
       "       fit_params=None, iid='warn', n_jobs=-1,\n",
       "       param_grid={'alpha': array([110.     , 110.20202, ..., 129.79798, 130.     ])},\n",
       "       pre_dispatch='2*n_jobs', refit=True, return_train_score='warn',\n",
       "       scoring='neg_mean_squared_error', verbose=1)"
      ]
     },
     "execution_count": 44,
     "metadata": {},
     "output_type": "execute_result"
    }
   ],
   "source": [
    "grid_search=GridSearchCV(model,param_grid=params,cv=10,scoring='neg_mean_squared_error',n_jobs=-1,verbose=1)\n",
    "grid_search.fit(x_train,y_train)"
   ]
  },
  {
   "cell_type": "code",
   "execution_count": 45,
   "metadata": {},
   "outputs": [
    {
     "name": "stdout",
     "output_type": "stream",
     "text": [
      "Model with rank: 1\n",
      "Mean validation score: -1.018 (std: 0.006)\n",
      "Parameters: {'alpha': 110.0}\n",
      "\n",
      "Model with rank: 2\n",
      "Mean validation score: -1.018 (std: 0.006)\n",
      "Parameters: {'alpha': 110.20202020202021}\n",
      "\n",
      "Model with rank: 3\n",
      "Mean validation score: -1.018 (std: 0.006)\n",
      "Parameters: {'alpha': 110.4040404040404}\n",
      "\n",
      "Model with rank: 4\n",
      "Mean validation score: -1.018 (std: 0.006)\n",
      "Parameters: {'alpha': 110.60606060606061}\n",
      "\n",
      "Model with rank: 5\n",
      "Mean validation score: -1.018 (std: 0.006)\n",
      "Parameters: {'alpha': 110.8080808080808}\n",
      "\n"
     ]
    }
   ],
   "source": [
    "report(grid_search.cv_results_,5)"
   ]
  },
  {
   "cell_type": "code",
   "execution_count": 46,
   "metadata": {},
   "outputs": [
    {
     "data": {
      "text/plain": [
       "Ridge(alpha=110.0, copy_X=True, fit_intercept=True, max_iter=None,\n",
       "   normalize=False, random_state=None, solver='auto', tol=0.001)"
      ]
     },
     "execution_count": 46,
     "metadata": {},
     "output_type": "execute_result"
    }
   ],
   "source": [
    "grid_search.best_estimator_"
   ]
  },
  {
   "cell_type": "code",
   "execution_count": 47,
   "metadata": {},
   "outputs": [],
   "source": [
    "lasso_model=grid_search.best_estimator_"
   ]
  },
  {
   "cell_type": "code",
   "execution_count": 48,
   "metadata": {},
   "outputs": [
    {
     "data": {
      "text/plain": [
       "Ridge(alpha=110.0, copy_X=True, fit_intercept=True, max_iter=None,\n",
       "   normalize=False, random_state=None, solver='auto', tol=0.001)"
      ]
     },
     "execution_count": 48,
     "metadata": {},
     "output_type": "execute_result"
    }
   ],
   "source": [
    "lasso_model.fit(x_train,y_train)"
   ]
  },
  {
   "cell_type": "code",
   "execution_count": 49,
   "metadata": {},
   "outputs": [
    {
     "data": {
      "text/plain": [
       "[('channel_code', 0.044722096765344374),\n",
       " ('main_product_code', -0.09554070901417613),\n",
       " ('numberofadults', 0.011444677352351032),\n",
       " ('numberofchildren', 0.03387294075043128),\n",
       " ('persontravellingid', -4.6937011877857606e-05),\n",
       " ('resort_region_code', -0.07003163638784406),\n",
       " ('room_type_booked_code', -0.017238593400550607),\n",
       " ('roomnights', 0.08278882961038811),\n",
       " ('season_holidayed_code', -0.07248425286154433),\n",
       " ('state_code_residence', -0.003605844283103192),\n",
       " ('state_code_resort', 0.006997449488584188),\n",
       " ('total_pax', 0.12393573333711634),\n",
       " ('total_journey', -0.2878851535101176),\n",
       " ('advanced_booking_days', 0.00021856143681890734),\n",
       " ('weekend', 0.02681103209132229),\n",
       " ('booking_quarter', -0.0296103798444465),\n",
       " ('booking_month', 0.012447193063016958),\n",
       " ('booking_year', 0.06046629471890163),\n",
       " ('reservationstatusid_code_booking_type_1B', 0.02656166775965625),\n",
       " ('reservationstatusid_code_booking_type_1C', 0.003372637124097696),\n",
       " ('reservationstatusid_code_booking_type_2A', 0.060658437073866076),\n",
       " ('reservationstatusid_code_booking_type_2B', 0.10046253920294622),\n",
       " ('reservationstatusid_code_booking_type_2C', 0.06942631423969489),\n",
       " ('member_age_buckets_B', 0.0009190824938702933),\n",
       " ('member_age_buckets_C', 0.05931114937163888),\n",
       " ('member_age_buckets_D', 0.0789757368771953),\n",
       " ('member_age_buckets_E', 0.09260558474676926),\n",
       " ('member_age_buckets_F', 0.06794849265262491),\n",
       " ('member_age_buckets_G', 0.03241089408475747),\n",
       " ('member_age_buckets_H', 0.019389838268226083),\n",
       " ('member_age_buckets_I', 0.08314843288769487),\n",
       " ('member_age_buckets_J', 0.05989899472072486),\n",
       " ('cluster_code_resort_type_1B624b60c58c9d8bfb6ff1886c2fd605d2adeb6ea4da576068201b6c6958ce93f4',\n",
       "  0.1406418276094776),\n",
       " ('cluster_code_resort_type_1C9400f1b21cb527d7fa3d3eabba93557a18ebe7a2ca4e471cfe5e4c5b4ca7f767',\n",
       "  0.2901266890586968),\n",
       " ('cluster_code_resort_type_1Cda4ea2a5506f2693eae190d9360a1f31793c98a1adade51d93533a6f520ace1c',\n",
       "  -0.1345348646093652),\n",
       " ('cluster_code_resort_type_1E48449a14a4ff7d79bb7a1b6f3d488eba397c36ef25634c111b49baf362511afc',\n",
       "  0.036944200475820345),\n",
       " ('cluster_code_resort_type_1E6b86b273ff34fce19d6b804eff5a3f5747ada4eaa22f1d49c01e52ddb7875b4b',\n",
       "  0.15949512706737146),\n",
       " ('cluster_code_resort_type_1Ec6f3ac57944a531490cd39902d0f777715fd005efac9a30622d5f5205e7f6894',\n",
       "  -0.14153596173085495),\n",
       " ('cluster_code_resort_type_1F3fdba35f04dc8c462986c992bcf875546257113072a909c162f7e470e581e278',\n",
       "  -0.4476957798099793),\n",
       " ('cluster_code_resort_type_1F49d180ecf56132819571bf39d9b7b342522a2ac6d23c1418d3338251bfe469c8',\n",
       "  0.2822081417189456),\n",
       " ('cluster_code_resort_type_1F4b227777d4dd1fc61c6f884f48641d02b4d121d3fd328cb08b5531fcacdabf8a',\n",
       "  -0.6338869413822569),\n",
       " ('cluster_code_resort_type_1F670671cd97404156226e507973f2ab8330d3022ca96e0c93bdbdb320c41adcaf',\n",
       "  -0.037107780531477355),\n",
       " ('cluster_code_resort_type_1Fb17ef6d19c7a5b1ee83b907c595526dcb1eb06db8227d650d5dda0a9f4ce8cd9',\n",
       "  0.13941394600019974),\n",
       " ('cluster_code_resort_type_1Fe7f6c011776e8db7cd330b54174fd76f7d0216b612387a5ffcfb81e6f0919683',\n",
       "  -0.20450697180480573),\n",
       " ('cluster_code_resort_type_2D6208ef0f7750c111548cf90b6ea1d0d0a66f6bff40dbef07cb45ec436263c7d6',\n",
       "  0.1252917765997915),\n",
       " ('cluster_code_resort_type_2D98a3ab7c340e8a033e7b37b6ef9428751581760af67bbab2b9e05d4964a8874a',\n",
       "  -0.14725332316542886),\n",
       " ('cluster_code_resort_type_2Dd4735e3a265e16eee03f59718b9b5d03019c07d8b6c51f90da3a666eec13ab35',\n",
       "  0.1450876556751971),\n",
       " ('cluster_code_resort_type_2Fe29c9c180c6279b0b02abd6a1801c7c04082cf486ec027aa13515e4f3884bb6b',\n",
       "  0.10543148656195568),\n",
       " ('cluster_code_resort_type_3A3e1e967e9b793e908f8eae83c74dba9bcccce6a5535b4b462bd9994537bfe15c',\n",
       "  0.15353986172793174),\n",
       " ('cluster_code_resort_type_3A7f2253d7e228b22a08bda1f09c516f6fead81df6536eb02fa991a34bb38d9be8',\n",
       "  -0.1436828863085056),\n",
       " ('cluster_code_resort_type_3A9f14025af0065b30e47e23ebb3b491d39ae8ed17d33739e5ff3827ffb3634953',\n",
       "  0.0460258814574648),\n",
       " ('cluster_code_resort_type_3Aef2d127de37b942baad06145e54b0c619a1f22327b2ebbcfbec78f5564afe39d',\n",
       "  -0.20072926406847685),\n",
       " ('cluster_code_resort_type_3Af5ca38f748a1d6eaf726b8a42fb575c3c71f1864a8143301782de13da2d9202b',\n",
       "  -0.014128501105058054),\n",
       " ('cluster_code_resort_type_3F39fa9ec190eee7b6f4dff1100d6343e10918d044c75eac8f9e9a2596173f80c9',\n",
       "  0.05993594146608015),\n",
       " ('cluster_code_resort_type_3F4e07408562bedb8b60ce05c1decfe3ad16b72230967de01f640b7e4729b49fce',\n",
       "  0.138820257184352),\n",
       " ('cluster_code_resort_type_3F7902699be42c8a8e46fbbb4501726517e86b22c56a189f7625a6da49081b2451',\n",
       "  -0.2598188027282595),\n",
       " ('cluster_code_resort_type_4B0b918943df0962bc7a1824c0555a389347b4febdc7cf9d1254406d80ce44e3f9',\n",
       "  -0.1135577736047897),\n",
       " ('cluster_code_resort_type_4B8722616204217eddb39e7df969e0698aed8e599ba62ed2de1ce49b03ade0fede',\n",
       "  0.31967843715782357),\n",
       " ('cluster_code_resort_type_4F4ec9599fc203d176a301536c2e091a19bc852759b255bd6818810a42c5fed14a',\n",
       "  0.1545873386942664),\n",
       " ('cluster_code_resort_type_5E535fa30d7e25dd8a49f1536779734ec8286108d115da5045d77f3b4185d8f790',\n",
       "  0.37898400560092493),\n",
       " ('cluster_code_resort_type_5E81b8a03f97e8787c53fe1a86bda042b6f0de9b0ec9c09357e107c99ba4d6948a',\n",
       "  0.0619316643959092),\n",
       " ('cluster_code_resort_type_5Ec75cb66ae28d8ebc6eded002c28a8ba0d06d3a78c6b5cbf9b2ade051f0775ac4',\n",
       "  0.2306907650911432),\n",
       " ('cluster_code_resort_type_7Bff5a1ae012afa5d4c889c50ad427aaf545d31a4fac04ffc1c4d03d403ba4250a',\n",
       "  -0.039337351548499926)]"
      ]
     },
     "execution_count": 49,
     "metadata": {},
     "output_type": "execute_result"
    }
   ],
   "source": [
    "list(zip(x_train.columns,lasso_model.coef_))"
   ]
  },
  {
   "cell_type": "code",
   "execution_count": 50,
   "metadata": {},
   "outputs": [],
   "source": [
    "predicted=grid_search.predict(x_test)"
   ]
  },
  {
   "cell_type": "code",
   "execution_count": 51,
   "metadata": {},
   "outputs": [
    {
     "data": {
      "text/plain": [
       "1.0011032625274083"
      ]
     },
     "execution_count": 51,
     "metadata": {},
     "output_type": "execute_result"
    }
   ],
   "source": [
    "residual= predicted-y_test \n",
    "\n",
    "rmse= np.sqrt(np.dot(residual,residual)/len(predicted))\n",
    "rmse"
   ]
  },
  {
   "cell_type": "code",
   "execution_count": 52,
   "metadata": {},
   "outputs": [
    {
     "data": {
      "text/plain": [
       "1.0011032625274083"
      ]
     },
     "execution_count": 52,
     "metadata": {},
     "output_type": "execute_result"
    }
   ],
   "source": [
    "rmse"
   ]
  },
  {
   "cell_type": "code",
   "execution_count": 753,
   "metadata": {},
   "outputs": [],
   "source": [
    "predicted=grid_search.predict(test)\n",
    "\n",
    "sample_sub=pd.read_csv('sample_submission.csv')\n",
    "\n",
    "# sub_df_gr = pd.DataFrame({\"reservation_id\":sample_sub[\"reservation_id\"].values})\n",
    "sub_df_gr[\"amount_spent_per_room_night_scaled\"] = predicted\n",
    "sub_df_gr.to_csv(\"lgb_pred_encoded.csv\", index=False)"
   ]
  },
  {
   "cell_type": "markdown",
   "metadata": {},
   "source": [
    "# lightgbm"
   ]
  },
  {
   "cell_type": "code",
   "execution_count": 274,
   "metadata": {},
   "outputs": [],
   "source": [
    "from lightgbm import LGBMRegressor"
   ]
  },
  {
   "cell_type": "code",
   "execution_count": 275,
   "metadata": {},
   "outputs": [],
   "source": [
    "# lgb = LGBMRegressor(objective='regression',num_leaves=5,learning_rate=0.05, n_estimators=720,\n",
    "#                               max_bin = 55, bagging_fraction = 0.8,\n",
    "#                               bagging_freq = 5, feature_fraction = 0.2319,\n",
    "#                               feature_fraction_seed=9, bagging_seed=9,\n",
    "#                               min_data_in_leaf =6, min_sum_hessian_in_leaf = 11,n_jobs=-1)\n",
    "lgb = LGBMRegressor()"
   ]
  },
  {
   "cell_type": "code",
   "execution_count": 276,
   "metadata": {},
   "outputs": [
    {
     "data": {
      "text/plain": [
       "LGBMRegressor(boosting_type='gbdt', class_weight=None, colsample_bytree=1.0,\n",
       "       importance_type='split', learning_rate=0.1, max_depth=-1,\n",
       "       min_child_samples=20, min_child_weight=0.001, min_split_gain=0.0,\n",
       "       n_estimators=100, n_jobs=-1, num_leaves=31, objective=None,\n",
       "       random_state=None, reg_alpha=0.0, reg_lambda=0.0, silent=True,\n",
       "       subsample=1.0, subsample_for_bin=200000, subsample_freq=0)"
      ]
     },
     "execution_count": 276,
     "metadata": {},
     "output_type": "execute_result"
    }
   ],
   "source": [
    "lgb.fit(x_train,y_train)"
   ]
  },
  {
   "cell_type": "code",
   "execution_count": 277,
   "metadata": {},
   "outputs": [],
   "source": [
    "predicted = lgb.predict(x_test)"
   ]
  },
  {
   "cell_type": "code",
   "execution_count": 278,
   "metadata": {},
   "outputs": [
    {
     "data": {
      "text/plain": [
       "0.9018237877272697"
      ]
     },
     "execution_count": 278,
     "metadata": {},
     "output_type": "execute_result"
    }
   ],
   "source": [
    "residual=predicted - y_test\n",
    "\n",
    "rmse_lm=np.sqrt(np.dot(residual,residual)/len(y_test))\n",
    "\n",
    "rmse_lm"
   ]
  },
  {
   "cell_type": "code",
   "execution_count": 279,
   "metadata": {},
   "outputs": [
    {
     "data": {
      "text/plain": [
       "0.19295420309795486"
      ]
     },
     "execution_count": 279,
     "metadata": {},
     "output_type": "execute_result"
    }
   ],
   "source": [
    "r2_score(y_test,predicted)"
   ]
  },
  {
   "cell_type": "code",
   "execution_count": 280,
   "metadata": {},
   "outputs": [
    {
     "data": {
      "text/plain": [
       "0.9018237877272697"
      ]
     },
     "execution_count": 280,
     "metadata": {},
     "output_type": "execute_result"
    }
   ],
   "source": [
    "rmse_lm"
   ]
  },
  {
   "cell_type": "code",
   "execution_count": 286,
   "metadata": {},
   "outputs": [
    {
     "data": {
      "text/plain": [
       "0.42221189520802394"
      ]
     },
     "execution_count": 286,
     "metadata": {},
     "output_type": "execute_result"
    }
   ],
   "source": [
    "predicted.std()"
   ]
  },
  {
   "cell_type": "code",
   "execution_count": 284,
   "metadata": {},
   "outputs": [],
   "source": [
    "predicted=lgb.predict(test)\n",
    "sample_sub=pd.read_csv('sample_submission.csv')\n",
    "\n",
    "sub_df_gr = pd.DataFrame({\"reservation_id\":sample_sub[\"reservation_id\"].values})\n",
    "sub_df_gr[\"amount_spent_per_room_night_scaled\"] = predicted\n",
    "sub_df_gr.to_csv(\"lgb_pred_encoded.csv\", index=False)"
   ]
  },
  {
   "cell_type": "code",
   "execution_count": 198,
   "metadata": {},
   "outputs": [],
   "source": [
    "a = sorted(list(zip(x_train.columns,lgb.feature_importances_)), key=lambda x: x[1],reverse=True)"
   ]
  },
  {
   "cell_type": "code",
   "execution_count": 216,
   "metadata": {},
   "outputs": [],
   "source": [
    "columns=[]\n",
    "for i in range(60):\n",
    "    col = a[i][0]\n",
    "    columns.append(col)"
   ]
  },
  {
   "cell_type": "code",
   "execution_count": 282,
   "metadata": {},
   "outputs": [
    {
     "data": {
      "text/plain": [
       "[('roomnights', 272),\n",
       " ('numberofadults', 246),\n",
       " ('total_journey', 223),\n",
       " ('advanced_booking_days', 193),\n",
       " ('total_pax', 179),\n",
       " ('state_code_residence', 168),\n",
       " ('persontravellingid', 118),\n",
       " ('booking_year', 111),\n",
       " ('main_product_code', 107),\n",
       " ('booking_month', 80),\n",
       " ('season_holidayed_code', 77),\n",
       " ('resort_id_7902699be42c8a8e46fbbb4501726517e86b22c56a189f7625a6da49081b2451',\n",
       "  65),\n",
       " ('cluster_code_resort_type_1F16', 64),\n",
       " ('resort_id_ef2d127de37b942baad06145e54b0c619a1f22327b2ebbcfbec78f5564afe39d',\n",
       "  59),\n",
       " ('cluster_code_resort_type_1F14', 56),\n",
       " ('numberofchildren', 55),\n",
       " ('resort_id_9400f1b21cb527d7fa3d3eabba93557a18ebe7a2ca4e471cfe5e4c5b4ca7f767',\n",
       "  46),\n",
       " ('room_type_booked_code', 43),\n",
       " ('cluster_code_resort_type_2F111', 42),\n",
       " ('cluster_code_resort_type_4B210', 42),\n",
       " ('resort_id_da4ea2a5506f2693eae190d9360a1f31793c98a1adade51d93533a6f520ace1c',\n",
       "  42),\n",
       " ('cluster_code_resort_type_4B213', 36),\n",
       " ('reservationstatusid_code_booking_type_2A', 35),\n",
       " ('resort_id_c6f3ac57944a531490cd39902d0f777715fd005efac9a30622d5f5205e7f6894',\n",
       "  35),\n",
       " ('channel_code', 34),\n",
       " ('resort_id_7f2253d7e228b22a08bda1f09c516f6fead81df6536eb02fa991a34bb38d9be8',\n",
       "  34),\n",
       " ('resort_id_6b86b273ff34fce19d6b804eff5a3f5747ada4eaa22f1d49c01e52ddb7875b4b',\n",
       "  32),\n",
       " ('cluster_code_resort_type_3A33', 32),\n",
       " ('cluster_code_resort_type_5E11', 31),\n",
       " ('resort_id_535fa30d7e25dd8a49f1536779734ec8286108d115da5045d77f3b4185d8f790',\n",
       "  29),\n",
       " ('cluster_code_resort_type_1F35', 29),\n",
       " ('cluster_code_resort_type_3F35', 29),\n",
       " ('resort_id_49d180ecf56132819571bf39d9b7b342522a2ac6d23c1418d3338251bfe469c8',\n",
       "  28),\n",
       " ('member_age_buckets_H', 27),\n",
       " ('cluster_code_resort_type_2D22', 25),\n",
       " ('resort_id_d4735e3a265e16eee03f59718b9b5d03019c07d8b6c51f90da3a666eec13ab35',\n",
       "  24),\n",
       " ('cluster_code_resort_type_1B29', 22),\n",
       " ('resort_id_4b227777d4dd1fc61c6f884f48641d02b4d121d3fd328cb08b5531fcacdabf8a',\n",
       "  21),\n",
       " ('cluster_code_resort_type_7B29', 19),\n",
       " ('member_age_buckets_B', 16),\n",
       " ('resort_id_98a3ab7c340e8a033e7b37b6ef9428751581760af67bbab2b9e05d4964a8874a',\n",
       "  16),\n",
       " ('member_age_buckets_E', 14),\n",
       " ('resort_id_6208ef0f7750c111548cf90b6ea1d0d0a66f6bff40dbef07cb45ec436263c7d6',\n",
       "  13),\n",
       " ('resort_id_3e1e967e9b793e908f8eae83c74dba9bcccce6a5535b4b462bd9994537bfe15c',\n",
       "  12),\n",
       " ('resort_id_c75cb66ae28d8ebc6eded002c28a8ba0d06d3a78c6b5cbf9b2ade051f0775ac4',\n",
       "  11),\n",
       " ('resort_id_39fa9ec190eee7b6f4dff1100d6343e10918d044c75eac8f9e9a2596173f80c9',\n",
       "  11),\n",
       " ('resort_id_81b8a03f97e8787c53fe1a86bda042b6f0de9b0ec9c09357e107c99ba4d6948a',\n",
       "  11),\n",
       " ('resort_id_f5ca38f748a1d6eaf726b8a42fb575c3c71f1864a8143301782de13da2d9202b',\n",
       "  10),\n",
       " ('member_age_buckets_F', 9),\n",
       " ('member_age_buckets_I', 9),\n",
       " ('cluster_code_resort_type_4F35', 9),\n",
       " ('weekend', 8),\n",
       " ('member_age_buckets_G', 8),\n",
       " ('resort_id_3fdba35f04dc8c462986c992bcf875546257113072a909c162f7e470e581e278',\n",
       "  8),\n",
       " ('member_age_buckets_D', 7),\n",
       " ('resort_id_e7f6c011776e8db7cd330b54174fd76f7d0216b612387a5ffcfb81e6f0919683',\n",
       "  6),\n",
       " ('cluster_code_resort_type_1E11', 6),\n",
       " ('resort_id_9f14025af0065b30e47e23ebb3b491d39ae8ed17d33739e5ff3827ffb3634953',\n",
       "  4),\n",
       " ('cluster_code_resort_type_1C27', 2),\n",
       " ('booking_quarter', 0)]"
      ]
     },
     "execution_count": 282,
     "metadata": {},
     "output_type": "execute_result"
    }
   ],
   "source": [
    "sorted(list(zip(x_train.columns,lgb.feature_importances_)), key=lambda x: x[1],reverse=True)"
   ]
  },
  {
   "cell_type": "code",
   "execution_count": 34,
   "metadata": {},
   "outputs": [],
   "source": [
    "from sklearn.metrics import r2_score"
   ]
  },
  {
   "cell_type": "code",
   "execution_count": null,
   "metadata": {},
   "outputs": [],
   "source": []
  }
 ],
 "metadata": {
  "kernelspec": {
   "display_name": "Python 3",
   "language": "python",
   "name": "python3"
  },
  "language_info": {
   "codemirror_mode": {
    "name": "ipython",
    "version": 3
   },
   "file_extension": ".py",
   "mimetype": "text/x-python",
   "name": "python",
   "nbconvert_exporter": "python",
   "pygments_lexer": "ipython3",
   "version": "3.7.3"
  }
 },
 "nbformat": 4,
 "nbformat_minor": 2
}
